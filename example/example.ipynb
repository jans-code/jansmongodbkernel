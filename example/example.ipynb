{
 "cells": [
  {
   "cell_type": "markdown",
   "id": "f1e6216b-91f0-41b3-a5df-1d686ef3a806",
   "metadata": {},
   "source": [
    "# Use mongoDB in Jupyter"
   ]
  },
  {
   "cell_type": "code",
   "execution_count": 1,
   "id": "fe042e76-eee1-4318-a888-58bd07cadcb3",
   "metadata": {
    "tags": []
   },
   "outputs": [
    {
     "name": "stdout",
     "output_type": "stream",
     "text": [
      "switched to db john\n"
     ]
    }
   ],
   "source": [
    "use john"
   ]
  },
  {
   "cell_type": "code",
   "execution_count": 2,
   "id": "07690f8b-a04f-4c0b-b3ea-0a0b5eaf1c79",
   "metadata": {
    "tags": []
   },
   "outputs": [
    {
     "name": "stdout",
     "output_type": "stream",
     "text": [
      "{\n",
      "  isWritablePrimary: true,\n",
      "  topologyVersion: {\n",
      "    processId: ObjectId(\"63e9e2b8b9089cc7a809f19f\"),\n",
      "    counter: Long(\"0\")\n",
      "  },\n",
      "  maxBsonObjectSize: 16777216,\n",
      "  maxMessageSizeBytes: 48000000,\n",
      "  maxWriteBatchSize: 100000,\n",
      "  localTime: ISODate(\"2023-02-13T08:58:05.477Z\"),\n",
      "  logicalSessionTimeoutMinutes: 30,\n",
      "  connectionId: 69,\n",
      "  minWireVersion: 0,\n",
      "  maxWireVersion: 17,\n",
      "  readOnly: false,\n",
      "  ok: 1\n",
      "}\n"
     ]
    }
   ],
   "source": [
    "db.hello()"
   ]
  }
 ],
 "metadata": {
  "kernelspec": {
   "display_name": "MongoDB",
   "language": "",
   "name": "jansmongodbkernel"
  },
  "language_info": {
   "file_extension": ".json",
   "mimetype": "application/json",
   "name": "mongodb"
  }
 },
 "nbformat": 4,
 "nbformat_minor": 5
}
