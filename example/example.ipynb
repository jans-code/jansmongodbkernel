{
 "cells": [
  {
   "cell_type": "markdown",
   "id": "f1e6216b-91f0-41b3-a5df-1d686ef3a806",
   "metadata": {},
   "source": [
    "# Use mongoDB in Jupyter"
   ]
  },
  {
   "cell_type": "code",
   "execution_count": 1,
   "id": "fe042e76-eee1-4318-a888-58bd07cadcb3",
   "metadata": {
    "tags": []
   },
   "outputs": [
    {
     "name": "stdout",
     "output_type": "stream",
     "text": [
      "switched to db mydb\n",
      "\n",
      "<<You are in db: \u001b[1G\u001b[0Jmydb>>"
     ]
    }
   ],
   "source": [
    "use mydb"
   ]
  },
  {
   "cell_type": "code",
   "execution_count": 2,
   "id": "07690f8b-a04f-4c0b-b3ea-0a0b5eaf1c79",
   "metadata": {
    "tags": []
   },
   "outputs": [
    {
     "name": "stdout",
     "output_type": "stream",
     "text": [
      "{\n",
      "  acknowledged: true,\n",
      "  insertedId: ObjectId(\"63eff9736399aff8b6931815\")\n",
      "}\n",
      "\n",
      "<<You are in db: \u001b[1G\u001b[0Jmydb>>"
     ]
    }
   ],
   "source": [
    "db.contact.insertOne(\n",
    "    {name:\"John\",\n",
    "    age:43}\n",
    ")"
   ]
  },
  {
   "cell_type": "code",
   "execution_count": 3,
   "id": "380951a9-0d72-4bd8-8d3d-4a0dce3d7d52",
   "metadata": {
    "tags": []
   },
   "outputs": [
    {
     "name": "stdout",
     "output_type": "stream",
     "text": [
      "admin   132.00 KiB\n",
      "config  108.00 KiB\n",
      "local    80.00 KiB\n",
      "mydb      8.00 KiB\n",
      "\n",
      "<<You are in db: \u001b[1G\u001b[0Jmydb>>"
     ]
    }
   ],
   "source": [
    "show dbs"
   ]
  },
  {
   "cell_type": "code",
   "execution_count": 4,
   "id": "023d8735-ae3f-4247-95bf-ff405665f66f",
   "metadata": {
    "tags": []
   },
   "outputs": [
    {
     "name": "stdout",
     "output_type": "stream",
     "text": [
      "contact\n",
      "\n",
      "<<You are in db: \u001b[1G\u001b[0Jmydb>>"
     ]
    }
   ],
   "source": [
    "show collections"
   ]
  },
  {
   "cell_type": "code",
   "execution_count": 5,
   "id": "0dbcd58d-6569-4036-9c8b-474a137a1de8",
   "metadata": {
    "tags": []
   },
   "outputs": [
    {
     "name": "stdout",
     "output_type": "stream",
     "text": [
      "{ ok: 1, dropped: 'mydb' }\n",
      "\n",
      "<<You are in db: \u001b[1G\u001b[0Jmydb>>"
     ]
    }
   ],
   "source": [
    "db.dropDatabase()"
   ]
  }
 ],
 "metadata": {
  "kernelspec": {
   "display_name": "MongoDB",
   "language": "",
   "name": "jansmongodbkernel"
  },
  "language_info": {
   "file_extension": ".json",
   "mimetype": "application/json",
   "name": "mongodb"
  }
 },
 "nbformat": 4,
 "nbformat_minor": 5
}
