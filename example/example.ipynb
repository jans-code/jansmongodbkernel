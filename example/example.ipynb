{
 "cells": [
  {
   "cell_type": "markdown",
   "id": "f1e6216b-91f0-41b3-a5df-1d686ef3a806",
   "metadata": {},
   "source": [
    "# Use mongoDB in Jupyter"
   ]
  },
  {
   "cell_type": "code",
   "execution_count": 1,
   "id": "fe042e76-eee1-4318-a888-58bd07cadcb3",
   "metadata": {
    "tags": []
   },
   "outputs": [
    {
     "name": "stdout",
     "output_type": "stream",
     "text": [
      "switched to db mydb\n",
      "\u001b[1G\u001b[0J"
     ]
    }
   ],
   "source": [
    "use mydb"
   ]
  },
  {
   "cell_type": "code",
   "execution_count": 2,
   "id": "07690f8b-a04f-4c0b-b3ea-0a0b5eaf1c79",
   "metadata": {
    "tags": []
   },
   "outputs": [
    {
     "name": "stdout",
     "output_type": "stream",
     "text": [
      "{\n",
      "  acknowledged: true,\n",
      "  insertedId: ObjectId(\"64218021077adfc356bc59da\")\n",
      "}\n",
      "\u001b[1G\u001b[0J"
     ]
    }
   ],
   "source": [
    "db.contact.insertOne(\n",
    "    {name:\"John\",\n",
    "    age:43}\n",
    ")"
   ]
  },
  {
   "cell_type": "code",
   "execution_count": 3,
   "id": "380951a9-0d72-4bd8-8d3d-4a0dce3d7d52",
   "metadata": {
    "tags": []
   },
   "outputs": [
    {
     "name": "stdout",
     "output_type": "stream",
     "text": [
      "admin   132.00 KiB\n",
      "config  116.00 KiB\n",
      "local    96.00 KiB\n",
      "mydb      8.00 KiB\n",
      "\u001b[1G\u001b[0J"
     ]
    }
   ],
   "source": [
    "show dbs"
   ]
  },
  {
   "cell_type": "code",
   "execution_count": 4,
   "id": "023d8735-ae3f-4247-95bf-ff405665f66f",
   "metadata": {
    "tags": []
   },
   "outputs": [
    {
     "name": "stdout",
     "output_type": "stream",
     "text": [
      "contact\n",
      "\u001b[1G\u001b[0J"
     ]
    }
   ],
   "source": [
    "show collections"
   ]
  },
  {
   "cell_type": "code",
   "execution_count": 5,
   "id": "572f1588-7f99-4763-adac-6348824ede53",
   "metadata": {
    "tags": []
   },
   "outputs": [
    {
     "name": "stdout",
     "output_type": "stream",
     "text": [
      "{\n",
      "  acknowledged: true,\n",
      "  insertedId: ObjectId(\"64218024077adfc356bc59db\")\n",
      "}\n",
      "\u001b[1G\u001b[0J"
     ]
    }
   ],
   "source": [
    "db.contact.insertOne(\n",
    "    {\n",
    "        name: \"Jan\",\n",
    "        age: 40\n",
    "    }\n",
    ")"
   ]
  },
  {
   "cell_type": "code",
   "execution_count": 6,
   "id": "6d22cdae-d0d1-413d-a462-751e97fcda76",
   "metadata": {
    "tags": []
   },
   "outputs": [
    {
     "name": "stdout",
     "output_type": "stream",
     "text": [
      "{\n",
      "  acknowledged: true,\n",
      "  insertedId: ObjectId(\"64218026077adfc356bc59dc\")\n",
      "}\n",
      "\u001b[1G\u001b[0J"
     ]
    }
   ],
   "source": [
    "db.contact.insertOne(\n",
    "    {\n",
    "        name: \"Hans\",\n",
    "        age: 69\n",
    "    }\n",
    ")"
   ]
  },
  {
   "cell_type": "code",
   "execution_count": 7,
   "id": "aab44b9e-fa2e-4a1a-8cdd-2f6ca6a0a7c3",
   "metadata": {
    "tags": []
   },
   "outputs": [
    {
     "name": "stdout",
     "output_type": "stream",
     "text": [
      "{\n",
      "  acknowledged: true,\n",
      "  insertedIds: {\n",
      "    '0': ObjectId(\"64218027077adfc356bc59dd\"),\n",
      "    '1': ObjectId(\"64218027077adfc356bc59de\")\n",
      "  }\n",
      "}\n",
      "\u001b[1G\u001b[0J"
     ]
    }
   ],
   "source": [
    "db.contact.insertMany(\n",
    "    [\n",
    "        {\n",
    "            name: \"Arnold\",\n",
    "            age: 70\n",
    "        },\n",
    "        {\n",
    "            name: \"Steven\",\n",
    "            age: 75\n",
    "        }\n",
    "    ]\n",
    ")"
   ]
  },
  {
   "cell_type": "code",
   "execution_count": 8,
   "id": "c3af7734-710e-4e91-a0eb-cfee88ba1e74",
   "metadata": {
    "tags": []
   },
   "outputs": [
    {
     "name": "stdout",
     "output_type": "stream",
     "text": [
      "{ ok: 1, dropped: 'mydb' }\n",
      "\u001b[1G\u001b[0J"
     ]
    }
   ],
   "source": [
    "db.dropDatabase()"
   ]
  },
  {
   "cell_type": "code",
   "execution_count": 9,
   "id": "34fc4b0e-a412-4171-8b8d-6e74b3948c2d",
   "metadata": {
    "tags": []
   },
   "outputs": [
    {
     "name": "stdout",
     "output_type": "stream",
     "text": [
      "admin   132.00 KiB\n",
      "config  116.00 KiB\n",
      "local    96.00 KiB\n",
      "\u001b[1G\u001b[0J"
     ]
    }
   ],
   "source": [
    "show dbs"
   ]
  }
 ],
 "metadata": {
  "kernelspec": {
   "display_name": "MongoDB",
   "language": "",
   "name": "jansmongodbkernel"
  },
  "language_info": {
   "file_extension": ".json",
   "mimetype": "application/json",
   "name": "mongodb"
  }
 },
 "nbformat": 4,
 "nbformat_minor": 5
}
